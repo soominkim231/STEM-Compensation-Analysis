{
 "cells": [
  {
   "cell_type": "markdown",
   "id": "94bea722",
   "metadata": {},
   "source": [
    "# Analysis of Full-Time STEM Job Compensation"
   ]
  },
  {
   "cell_type": "markdown",
   "id": "83b20654",
   "metadata": {},
   "source": [
    "## 1. Data Collection and Cleaning"
   ]
  },
  {
   "cell_type": "code",
   "execution_count": 1,
   "id": "ac788638",
   "metadata": {
    "scrolled": true
   },
   "outputs": [],
   "source": [
    "# Import packages\n",
    "import numpy as np\n",
    "import pandas as pd\n",
    "from datetime import datetime\n",
    "import matplotlib.pyplot as plt\n",
    "import seaborn as sns\n",
    "from scipy import stats\n",
    "from sklearn.model_selection import train_test_split\n",
    "from sklearn.linear_model import LinearRegression\n",
    "from sklearn.metrics import mean_squared_error\n",
    "from sklearn.metrics import r2_score"
   ]
  },
  {
   "cell_type": "code",
   "execution_count": 2,
   "id": "cfe15f99",
   "metadata": {},
   "outputs": [
    {
     "name": "stdout",
     "output_type": "stream",
     "text": [
      "{'Content-Type': 'application/json', 'Content-Length': '3036022', 'Connection': 'keep-alive', 'Content-Encoding': 'gzip', 'Last-Modified': 'Tue, 17 Aug 2021 15:37:18 GMT', 'Server': 'AmazonS3', 'Date': 'Tue, 28 Dec 2021 17:19:26 GMT', 'Cache-Control': 'public, max-age=18000', 'ETag': '\"e71e8f415432954bb71175490bc7add3\"', 'X-Cache': 'Hit from cloudfront', 'Via': '1.1 074df32306fddeb7d54ca41312e6888e.cloudfront.net (CloudFront)', 'X-Amz-Cf-Pop': 'IAD89-P2', 'X-Amz-Cf-Id': 'edco0nTTNaLwIyRTRpiSklnVsPp1533wOJqpnKh475pdhMggAL4EBg==', 'Age': '13980'}\n"
     ]
    }
   ],
   "source": [
    "# Import requests and get .json salary data from levels.fyi\n",
    "# Code taken from https://towardsdatascience.com/a-beginners-guide-to-grabbing-and-analyzing-salary-data-in-python-e8c60eab186e\n",
    "import requests\n",
    "r = requests.get('https://www.levels.fyi/js/salaryData.json')\n",
    "print(r.headers) # Most recent data is from Tue, 17 Aug 2021\n",
    "# Load data into pandas DataFrame\n",
    "data = pd.DataFrame(r.json())"
   ]
  },
  {
   "cell_type": "code",
   "execution_count": 3,
   "id": "3d1bdf86",
   "metadata": {},
   "outputs": [
    {
     "data": {
      "text/html": [
       "<div>\n",
       "<style scoped>\n",
       "    .dataframe tbody tr th:only-of-type {\n",
       "        vertical-align: middle;\n",
       "    }\n",
       "\n",
       "    .dataframe tbody tr th {\n",
       "        vertical-align: top;\n",
       "    }\n",
       "\n",
       "    .dataframe thead th {\n",
       "        text-align: right;\n",
       "    }\n",
       "</style>\n",
       "<table border=\"1\" class=\"dataframe\">\n",
       "  <thead>\n",
       "    <tr style=\"text-align: right;\">\n",
       "      <th></th>\n",
       "      <th>timestamp</th>\n",
       "      <th>company</th>\n",
       "      <th>level</th>\n",
       "      <th>title</th>\n",
       "      <th>totalyearlycompensation</th>\n",
       "      <th>location</th>\n",
       "      <th>yearsofexperience</th>\n",
       "      <th>yearsatcompany</th>\n",
       "      <th>tag</th>\n",
       "      <th>basesalary</th>\n",
       "      <th>stockgrantvalue</th>\n",
       "      <th>bonus</th>\n",
       "      <th>gender</th>\n",
       "      <th>otherdetails</th>\n",
       "      <th>cityid</th>\n",
       "      <th>dmaid</th>\n",
       "      <th>rowNumber</th>\n",
       "    </tr>\n",
       "  </thead>\n",
       "  <tbody>\n",
       "    <tr>\n",
       "      <th>0</th>\n",
       "      <td>6/7/2017 11:33:27</td>\n",
       "      <td>Oracle</td>\n",
       "      <td>L3</td>\n",
       "      <td>Product Manager</td>\n",
       "      <td>127</td>\n",
       "      <td>Redwood City, CA</td>\n",
       "      <td>1.5</td>\n",
       "      <td>1.5</td>\n",
       "      <td></td>\n",
       "      <td>107</td>\n",
       "      <td>20</td>\n",
       "      <td>10</td>\n",
       "      <td></td>\n",
       "      <td></td>\n",
       "      <td>7392</td>\n",
       "      <td>807</td>\n",
       "      <td>1</td>\n",
       "    </tr>\n",
       "    <tr>\n",
       "      <th>1</th>\n",
       "      <td>6/10/2017 17:11:29</td>\n",
       "      <td>eBay</td>\n",
       "      <td>SE 2</td>\n",
       "      <td>Software Engineer</td>\n",
       "      <td>100</td>\n",
       "      <td>San Francisco, CA</td>\n",
       "      <td>5</td>\n",
       "      <td>3</td>\n",
       "      <td></td>\n",
       "      <td></td>\n",
       "      <td></td>\n",
       "      <td></td>\n",
       "      <td></td>\n",
       "      <td></td>\n",
       "      <td>7419</td>\n",
       "      <td>807</td>\n",
       "      <td>2</td>\n",
       "    </tr>\n",
       "    <tr>\n",
       "      <th>2</th>\n",
       "      <td>6/11/2017 14:53:57</td>\n",
       "      <td>Amazon</td>\n",
       "      <td>L7</td>\n",
       "      <td>Product Manager</td>\n",
       "      <td>310</td>\n",
       "      <td>Seattle, WA</td>\n",
       "      <td>8</td>\n",
       "      <td>0</td>\n",
       "      <td></td>\n",
       "      <td>155</td>\n",
       "      <td></td>\n",
       "      <td></td>\n",
       "      <td></td>\n",
       "      <td></td>\n",
       "      <td>11527</td>\n",
       "      <td>819</td>\n",
       "      <td>3</td>\n",
       "    </tr>\n",
       "    <tr>\n",
       "      <th>3</th>\n",
       "      <td>6/14/2017 21:22:25</td>\n",
       "      <td>Microsoft</td>\n",
       "      <td>64</td>\n",
       "      <td>Software Engineering Manager</td>\n",
       "      <td>200</td>\n",
       "      <td>Redmond, WA</td>\n",
       "      <td>9</td>\n",
       "      <td>9</td>\n",
       "      <td></td>\n",
       "      <td>169000</td>\n",
       "      <td>100000</td>\n",
       "      <td>30000</td>\n",
       "      <td></td>\n",
       "      <td></td>\n",
       "      <td>11521</td>\n",
       "      <td>819</td>\n",
       "      <td>5</td>\n",
       "    </tr>\n",
       "    <tr>\n",
       "      <th>4</th>\n",
       "      <td>6/16/2017 10:44:01</td>\n",
       "      <td>Amazon</td>\n",
       "      <td>L5</td>\n",
       "      <td>Software Engineer</td>\n",
       "      <td>173</td>\n",
       "      <td>Vancouver, BC, Canada</td>\n",
       "      <td>11</td>\n",
       "      <td>1</td>\n",
       "      <td></td>\n",
       "      <td>120000</td>\n",
       "      <td>0</td>\n",
       "      <td>53000</td>\n",
       "      <td></td>\n",
       "      <td></td>\n",
       "      <td>1320</td>\n",
       "      <td>0</td>\n",
       "      <td>6</td>\n",
       "    </tr>\n",
       "    <tr>\n",
       "      <th>...</th>\n",
       "      <td>...</td>\n",
       "      <td>...</td>\n",
       "      <td>...</td>\n",
       "      <td>...</td>\n",
       "      <td>...</td>\n",
       "      <td>...</td>\n",
       "      <td>...</td>\n",
       "      <td>...</td>\n",
       "      <td>...</td>\n",
       "      <td>...</td>\n",
       "      <td>...</td>\n",
       "      <td>...</td>\n",
       "      <td>...</td>\n",
       "      <td>...</td>\n",
       "      <td>...</td>\n",
       "      <td>...</td>\n",
       "      <td>...</td>\n",
       "    </tr>\n",
       "    <tr>\n",
       "      <th>62637</th>\n",
       "      <td>8/17/2021 8:16:36</td>\n",
       "      <td>Amazon</td>\n",
       "      <td>L6</td>\n",
       "      <td>Product Manager</td>\n",
       "      <td>241</td>\n",
       "      <td>Seattle, WA</td>\n",
       "      <td>9</td>\n",
       "      <td>0</td>\n",
       "      <td>Analytic</td>\n",
       "      <td>150</td>\n",
       "      <td>46</td>\n",
       "      <td>45</td>\n",
       "      <td>Female</td>\n",
       "      <td>Title: Senior Product Manager, Race: Asian, Ac...</td>\n",
       "      <td>11527</td>\n",
       "      <td>819</td>\n",
       "      <td>83870</td>\n",
       "    </tr>\n",
       "    <tr>\n",
       "      <th>62638</th>\n",
       "      <td>8/17/2021 8:22:17</td>\n",
       "      <td>Fidelity Investments</td>\n",
       "      <td>L3</td>\n",
       "      <td>Software Engineer</td>\n",
       "      <td>98</td>\n",
       "      <td>Durham, NC</td>\n",
       "      <td>0</td>\n",
       "      <td>0</td>\n",
       "      <td>Full Stack</td>\n",
       "      <td>85</td>\n",
       "      <td>0</td>\n",
       "      <td>13</td>\n",
       "      <td>Male</td>\n",
       "      <td>10% profit share into 401k and 7% 401k match, ...</td>\n",
       "      <td>9606</td>\n",
       "      <td>560</td>\n",
       "      <td>83871</td>\n",
       "    </tr>\n",
       "    <tr>\n",
       "      <th>62639</th>\n",
       "      <td>8/17/2021 8:24:56</td>\n",
       "      <td>Cisco</td>\n",
       "      <td>Grade 8</td>\n",
       "      <td>Software Engineer</td>\n",
       "      <td>154</td>\n",
       "      <td>San Jose, CA</td>\n",
       "      <td>5</td>\n",
       "      <td>5</td>\n",
       "      <td>Networking</td>\n",
       "      <td>129</td>\n",
       "      <td>10</td>\n",
       "      <td>15</td>\n",
       "      <td>Male</td>\n",
       "      <td>Title: Software Engineer 3, Race: Asian</td>\n",
       "      <td>7422</td>\n",
       "      <td>807</td>\n",
       "      <td>83872</td>\n",
       "    </tr>\n",
       "    <tr>\n",
       "      <th>62640</th>\n",
       "      <td>8/17/2021 8:26:21</td>\n",
       "      <td>HSBC</td>\n",
       "      <td>GCB5</td>\n",
       "      <td>Software Engineer</td>\n",
       "      <td>159</td>\n",
       "      <td>New York, NY</td>\n",
       "      <td>12</td>\n",
       "      <td>5</td>\n",
       "      <td>Full Stack</td>\n",
       "      <td>139</td>\n",
       "      <td>0</td>\n",
       "      <td>20</td>\n",
       "      <td></td>\n",
       "      <td>Title: Senior Software Engineer</td>\n",
       "      <td>10182</td>\n",
       "      <td>501</td>\n",
       "      <td>83874</td>\n",
       "    </tr>\n",
       "    <tr>\n",
       "      <th>62641</th>\n",
       "      <td>8/17/2021 8:28:57</td>\n",
       "      <td>Adobe</td>\n",
       "      <td>Software Engineer 5</td>\n",
       "      <td>Product Designer</td>\n",
       "      <td>300</td>\n",
       "      <td>San Francisco, CA</td>\n",
       "      <td>5</td>\n",
       "      <td>0</td>\n",
       "      <td>User Experience (UX)</td>\n",
       "      <td>180</td>\n",
       "      <td>100</td>\n",
       "      <td>20</td>\n",
       "      <td>Male</td>\n",
       "      <td>Title: Ux Designer, Race: Asian, Academic Leve...</td>\n",
       "      <td>7419</td>\n",
       "      <td>807</td>\n",
       "      <td>83875</td>\n",
       "    </tr>\n",
       "  </tbody>\n",
       "</table>\n",
       "<p>62642 rows × 17 columns</p>\n",
       "</div>"
      ],
      "text/plain": [
       "                timestamp               company                level  \\\n",
       "0       6/7/2017 11:33:27                Oracle                   L3   \n",
       "1      6/10/2017 17:11:29                  eBay                 SE 2   \n",
       "2      6/11/2017 14:53:57                Amazon                   L7   \n",
       "3      6/14/2017 21:22:25             Microsoft                   64   \n",
       "4      6/16/2017 10:44:01                Amazon                   L5   \n",
       "...                   ...                   ...                  ...   \n",
       "62637   8/17/2021 8:16:36                Amazon                   L6   \n",
       "62638   8/17/2021 8:22:17  Fidelity Investments                   L3   \n",
       "62639   8/17/2021 8:24:56                 Cisco              Grade 8   \n",
       "62640   8/17/2021 8:26:21                  HSBC                 GCB5   \n",
       "62641   8/17/2021 8:28:57                 Adobe  Software Engineer 5   \n",
       "\n",
       "                              title totalyearlycompensation  \\\n",
       "0                   Product Manager                     127   \n",
       "1                 Software Engineer                     100   \n",
       "2                   Product Manager                     310   \n",
       "3      Software Engineering Manager                     200   \n",
       "4                 Software Engineer                     173   \n",
       "...                             ...                     ...   \n",
       "62637               Product Manager                     241   \n",
       "62638             Software Engineer                      98   \n",
       "62639             Software Engineer                     154   \n",
       "62640             Software Engineer                     159   \n",
       "62641              Product Designer                     300   \n",
       "\n",
       "                    location yearsofexperience yearsatcompany  \\\n",
       "0           Redwood City, CA               1.5            1.5   \n",
       "1          San Francisco, CA                 5              3   \n",
       "2                Seattle, WA                 8              0   \n",
       "3                Redmond, WA                 9              9   \n",
       "4      Vancouver, BC, Canada                11              1   \n",
       "...                      ...               ...            ...   \n",
       "62637            Seattle, WA                 9              0   \n",
       "62638             Durham, NC                 0              0   \n",
       "62639           San Jose, CA                 5              5   \n",
       "62640           New York, NY                12              5   \n",
       "62641      San Francisco, CA                 5              0   \n",
       "\n",
       "                        tag basesalary stockgrantvalue  bonus  gender  \\\n",
       "0                                  107              20     10           \n",
       "1                                                                       \n",
       "2                                  155                                  \n",
       "3                               169000          100000  30000           \n",
       "4                               120000               0  53000           \n",
       "...                     ...        ...             ...    ...     ...   \n",
       "62637              Analytic        150              46     45  Female   \n",
       "62638            Full Stack         85               0     13    Male   \n",
       "62639            Networking        129              10     15    Male   \n",
       "62640            Full Stack        139               0     20           \n",
       "62641  User Experience (UX)        180             100     20    Male   \n",
       "\n",
       "                                            otherdetails cityid dmaid  \\\n",
       "0                                                          7392   807   \n",
       "1                                                          7419   807   \n",
       "2                                                         11527   819   \n",
       "3                                                         11521   819   \n",
       "4                                                          1320     0   \n",
       "...                                                  ...    ...   ...   \n",
       "62637  Title: Senior Product Manager, Race: Asian, Ac...  11527   819   \n",
       "62638  10% profit share into 401k and 7% 401k match, ...   9606   560   \n",
       "62639            Title: Software Engineer 3, Race: Asian   7422   807   \n",
       "62640                    Title: Senior Software Engineer  10182   501   \n",
       "62641  Title: Ux Designer, Race: Asian, Academic Leve...   7419   807   \n",
       "\n",
       "       rowNumber  \n",
       "0              1  \n",
       "1              2  \n",
       "2              3  \n",
       "3              5  \n",
       "4              6  \n",
       "...          ...  \n",
       "62637      83870  \n",
       "62638      83871  \n",
       "62639      83872  \n",
       "62640      83874  \n",
       "62641      83875  \n",
       "\n",
       "[62642 rows x 17 columns]"
      ]
     },
     "execution_count": 3,
     "metadata": {},
     "output_type": "execute_result"
    }
   ],
   "source": [
    "# View unclean data\n",
    "data"
   ]
  },
  {
   "cell_type": "code",
   "execution_count": 4,
   "id": "05fd7ab3",
   "metadata": {},
   "outputs": [
    {
     "data": {
      "text/plain": [
       "Index(['timestamp', 'company', 'level', 'title', 'totalyearlycompensation',\n",
       "       'location', 'yearsofexperience', 'yearsatcompany', 'tag', 'basesalary',\n",
       "       'stockgrantvalue', 'bonus', 'gender', 'otherdetails', 'cityid', 'dmaid',\n",
       "       'rowNumber'],\n",
       "      dtype='object')"
      ]
     },
     "execution_count": 4,
     "metadata": {},
     "output_type": "execute_result"
    }
   ],
   "source": [
    "# View columns\n",
    "data.columns"
   ]
  },
  {
   "cell_type": "code",
   "execution_count": 5,
   "id": "25cd4782",
   "metadata": {},
   "outputs": [],
   "source": [
    "# Change timestamp dtype to datetime64\n",
    "data['timestamp'] = pd.to_datetime(data['timestamp'])"
   ]
  },
  {
   "cell_type": "code",
   "execution_count": 6,
   "id": "f92fd0bd",
   "metadata": {},
   "outputs": [],
   "source": [
    "# Change numerical columns dtype to float64\n",
    "float_cols = ['totalyearlycompensation', 'yearsofexperience', 'yearsatcompany', 'basesalary', 'stockgrantvalue', 'bonus']\n",
    "data[float_cols] = data[float_cols].apply(pd.to_numeric)"
   ]
  },
  {
   "cell_type": "code",
   "execution_count": 7,
   "id": "439ca07c",
   "metadata": {
    "scrolled": true
   },
   "outputs": [
    {
     "data": {
      "text/plain": [
       "timestamp                  datetime64[ns]\n",
       "company                            object\n",
       "level                              object\n",
       "title                              object\n",
       "totalyearlycompensation           float64\n",
       "location                           object\n",
       "yearsofexperience                 float64\n",
       "yearsatcompany                    float64\n",
       "tag                                object\n",
       "basesalary                        float64\n",
       "stockgrantvalue                   float64\n",
       "bonus                             float64\n",
       "gender                             object\n",
       "otherdetails                       object\n",
       "cityid                             object\n",
       "dmaid                              object\n",
       "rowNumber                           int64\n",
       "dtype: object"
      ]
     },
     "execution_count": 7,
     "metadata": {},
     "output_type": "execute_result"
    }
   ],
   "source": [
    "# Check column dtypes\n",
    "data.dtypes"
   ]
  },
  {
   "cell_type": "code",
   "execution_count": 8,
   "id": "83e64005",
   "metadata": {},
   "outputs": [],
   "source": [
    "# Replace empty strings with NaN\n",
    "data = data.replace('', np.NaN)"
   ]
  },
  {
   "cell_type": "code",
   "execution_count": 9,
   "id": "3185ef0c",
   "metadata": {},
   "outputs": [],
   "source": [
    "# Multiply total yearly compensation (in thousands) by 1000 for clearer analysis\n",
    "data['totalyearlycompensation'] = data['totalyearlycompensation']*1000\n"
   ]
  },
  {
   "cell_type": "code",
   "execution_count": 10,
   "id": "1fa09b13",
   "metadata": {},
   "outputs": [
    {
     "data": {
      "text/plain": [
       "count    6.264200e+04\n",
       "mean     2.163004e+05\n",
       "std      1.380337e+05\n",
       "min      1.000000e+04\n",
       "25%      1.350000e+05\n",
       "50%      1.880000e+05\n",
       "75%      2.640000e+05\n",
       "max      4.980000e+06\n",
       "Name: totalyearlycompensation, dtype: float64"
      ]
     },
     "execution_count": 10,
     "metadata": {},
     "output_type": "execute_result"
    }
   ],
   "source": [
    "# View min and max total yearly compensation\n",
    "data['totalyearlycompensation'].describe()"
   ]
  },
  {
   "cell_type": "code",
   "execution_count": 11,
   "id": "0a8f7741",
   "metadata": {},
   "outputs": [
    {
     "data": {
      "text/plain": [
       "count    6.033800e+04\n",
       "mean     1.865890e+03\n",
       "std      1.899476e+04\n",
       "min      1.000000e+00\n",
       "25%      1.110000e+02\n",
       "50%      1.420000e+02\n",
       "75%      1.700000e+02\n",
       "max      1.659870e+06\n",
       "Name: basesalary, dtype: float64"
      ]
     },
     "execution_count": 11,
     "metadata": {},
     "output_type": "execute_result"
    }
   ],
   "source": [
    "data['basesalary'].describe()"
   ]
  },
  {
   "cell_type": "code",
   "execution_count": 12,
   "id": "25029b8a",
   "metadata": {},
   "outputs": [],
   "source": [
    "# Since the max total compensation is less than 5 million and the min total compensation is greater than 10,000,\n",
    "# We filter the other compensation columns by when base salary is less than 5000 to see when we need to multiply by 1000\n",
    "in_thousands_cols = ['basesalary', 'stockgrantvalue', 'bonus']\n",
    "data[in_thousands_cols] = data[in_thousands_cols][data['basesalary'] < 5000]*1000"
   ]
  },
  {
   "cell_type": "code",
   "execution_count": 13,
   "id": "e38adb24",
   "metadata": {},
   "outputs": [
    {
     "data": {
      "text/plain": [
       "Asian       11766\n",
       "White        8030\n",
       "Hispanic     1130\n",
       "Two           804\n",
       "Black         688\n",
       "American       68\n",
       "Native         33\n",
       "Name: Race, dtype: int64"
      ]
     },
     "execution_count": 13,
     "metadata": {},
     "output_type": "execute_result"
    }
   ],
   "source": [
    "# Extract Race from other details and view values\n",
    "data['Race'] = data['otherdetails'].str.extract(r'(?<=Race: )(\\w+)')\n",
    "data['Race'].value_counts()"
   ]
  },
  {
   "cell_type": "code",
   "execution_count": 14,
   "id": "a3154895",
   "metadata": {},
   "outputs": [
    {
     "data": {
      "text/plain": [
       "['Race: American Indian or Alaska Native, Academic Level: Bachelor’s degree']"
      ]
     },
     "execution_count": 14,
     "metadata": {},
     "output_type": "execute_result"
    }
   ],
   "source": [
    "# View full text of 'American' race\n",
    "data.loc[data['Race'] == 'American'].head(1)['otherdetails'].tolist()"
   ]
  },
  {
   "cell_type": "code",
   "execution_count": 15,
   "id": "4904e9a0",
   "metadata": {},
   "outputs": [],
   "source": [
    "# Replace 'American' with its full text\n",
    "data.loc[(data['Race'] == 'American'), 'Race'] = 'American Indian or Alaska Native'"
   ]
  },
  {
   "cell_type": "code",
   "execution_count": 16,
   "id": "bf86e8ed",
   "metadata": {},
   "outputs": [
    {
     "data": {
      "text/plain": [
       "['Race: Native Hawaiian or Other Pacific Islander, Academic Level: Master’s degree']"
      ]
     },
     "execution_count": 16,
     "metadata": {},
     "output_type": "execute_result"
    }
   ],
   "source": [
    "# View full text of 'Native' race\n",
    "data.loc[data['Race'] == 'Native'].head(1)['otherdetails'].tolist()"
   ]
  },
  {
   "cell_type": "code",
   "execution_count": 17,
   "id": "0f64158b",
   "metadata": {},
   "outputs": [],
   "source": [
    "# Replace 'Native' with its full text\n",
    "data.loc[(data['Race'] == 'Native'), 'Race'] = 'Native Hawaiian or Other Pacific Islander'"
   ]
  },
  {
   "cell_type": "code",
   "execution_count": 18,
   "id": "5733b4c7",
   "metadata": {},
   "outputs": [
    {
     "data": {
      "text/plain": [
       "['Race: Two or More Races, Academic Level: Bachelor’s degree']"
      ]
     },
     "execution_count": 18,
     "metadata": {},
     "output_type": "execute_result"
    }
   ],
   "source": [
    "# View full text of 'Two' race\n",
    "data.loc[data['Race'] == 'Two'].head(1)['otherdetails'].tolist()"
   ]
  },
  {
   "cell_type": "code",
   "execution_count": 19,
   "id": "add4f7f1",
   "metadata": {},
   "outputs": [],
   "source": [
    "# Replace 'Two' with its full text\n",
    "data.loc[(data['Race'] == 'Two'), 'Race'] = 'Two or More Races'"
   ]
  },
  {
   "cell_type": "code",
   "execution_count": 20,
   "id": "1d164d41",
   "metadata": {},
   "outputs": [
    {
     "data": {
      "text/plain": [
       "Bachelor     12589\n",
       "Master       10998\n",
       "Doctorate     1178\n",
       "Some           355\n",
       "High           320\n",
       "Associate      143\n",
       "Technical      111\n",
       "Name: Education, dtype: int64"
      ]
     },
     "execution_count": 20,
     "metadata": {},
     "output_type": "execute_result"
    }
   ],
   "source": [
    "# Extract Education from other details and view values\n",
    "data['Education'] = data['otherdetails'].str.extract(r'(?<=Academic Level: )(\\w+)')\n",
    "data['Education'].value_counts()"
   ]
  },
  {
   "cell_type": "code",
   "execution_count": 21,
   "id": "b620d497",
   "metadata": {},
   "outputs": [
    {
     "data": {
      "text/plain": [
       "['Race: Black or African American, Academic Level: Some college coursework completed']"
      ]
     },
     "execution_count": 21,
     "metadata": {},
     "output_type": "execute_result"
    }
   ],
   "source": [
    "# View full text of 'Some' education\n",
    "data.loc[data['Education'] == 'Some'].head(1)['otherdetails'].tolist()"
   ]
  },
  {
   "cell_type": "code",
   "execution_count": 22,
   "id": "cc85a140",
   "metadata": {},
   "outputs": [],
   "source": [
    "# Replace 'Some' with its full text\n",
    "data.loc[(data['Education'] == 'Some'), 'Education'] = 'Some college coursework completed'"
   ]
  },
  {
   "cell_type": "code",
   "execution_count": 23,
   "id": "6b318648",
   "metadata": {},
   "outputs": [
    {
     "data": {
      "text/plain": [
       "['Race: Hispanic / Latino, Academic Level: High school or equivalent']"
      ]
     },
     "execution_count": 23,
     "metadata": {},
     "output_type": "execute_result"
    }
   ],
   "source": [
    "# View full text of 'High' education\n",
    "data.loc[data['Education'] == 'High'].head(1)['otherdetails'].tolist()"
   ]
  },
  {
   "cell_type": "code",
   "execution_count": 24,
   "id": "d7d8180a",
   "metadata": {},
   "outputs": [],
   "source": [
    "# Replace 'High' with its full text\n",
    "data.loc[(data['Education'] == 'High'), 'Education'] = 'High school or equivalent'"
   ]
  },
  {
   "cell_type": "code",
   "execution_count": 25,
   "id": "8de5eacc",
   "metadata": {},
   "outputs": [
    {
     "data": {
      "text/plain": [
       "['Race: White, Academic Level: Technical or occupational certificate']"
      ]
     },
     "execution_count": 25,
     "metadata": {},
     "output_type": "execute_result"
    }
   ],
   "source": [
    "# View full text of 'Technical' education\n",
    "data.loc[data['Education'] == 'Technical'].head(1)['otherdetails'].tolist()"
   ]
  },
  {
   "cell_type": "code",
   "execution_count": 26,
   "id": "cd372ad3",
   "metadata": {},
   "outputs": [],
   "source": [
    "# Replace 'Technical' with its full text\n",
    "data.loc[(data['Education'] == 'Technical'), 'Education'] = 'Technical or occupational certificate'"
   ]
  },
  {
   "cell_type": "code",
   "execution_count": 27,
   "id": "b2e13fc6",
   "metadata": {},
   "outputs": [],
   "source": [
    "# Create new column that sums the base salary, stock grant value, and bonus\n",
    "data['sumof3compensation'] = data['basesalary'].fillna(0) + data['stockgrantvalue'].fillna(0) + data['bonus'].fillna(0)"
   ]
  },
  {
   "cell_type": "code",
   "execution_count": 28,
   "id": "7370677d",
   "metadata": {},
   "outputs": [
    {
     "data": {
      "text/plain": [
       "5806"
      ]
     },
     "execution_count": 28,
     "metadata": {},
     "output_type": "execute_result"
    }
   ],
   "source": [
    "# Total yearly compensation should equal sum of 3 individual compensations\n",
    "# Check the number of rows with incorrect inputs\n",
    "data[(data['totalyearlycompensation'] < data['sumof3compensation'])].shape[0] # Incorrect"
   ]
  },
  {
   "cell_type": "code",
   "execution_count": 29,
   "id": "7ea77df9",
   "metadata": {},
   "outputs": [
    {
     "data": {
      "text/plain": [
       "49917"
      ]
     },
     "execution_count": 29,
     "metadata": {},
     "output_type": "execute_result"
    }
   ],
   "source": [
    "data[(data['totalyearlycompensation'] == data['sumof3compensation'])].shape[0] # Correct"
   ]
  },
  {
   "cell_type": "code",
   "execution_count": 30,
   "id": "ee9b7a43",
   "metadata": {},
   "outputs": [
    {
     "data": {
      "text/plain": [
       "6919"
      ]
     },
     "execution_count": 30,
     "metadata": {},
     "output_type": "execute_result"
    }
   ],
   "source": [
    "data[(data['totalyearlycompensation'] > data['sumof3compensation'])].shape[0] # Incorrect"
   ]
  },
  {
   "cell_type": "code",
   "execution_count": 31,
   "id": "89b78390",
   "metadata": {},
   "outputs": [],
   "source": [
    "# Create new DataFrame with only rows that have correct compensation data for compensation analysis\n",
    "data_comp = data[(data['totalyearlycompensation'] == data['sumof3compensation'])]"
   ]
  },
  {
   "cell_type": "code",
   "execution_count": 32,
   "id": "99bde4d7",
   "metadata": {},
   "outputs": [
    {
     "name": "stderr",
     "output_type": "stream",
     "text": [
      "/Users/soominkim/opt/anaconda3/lib/python3.8/site-packages/pandas/core/frame.py:3641: SettingWithCopyWarning: \n",
      "A value is trying to be set on a copy of a slice from a DataFrame.\n",
      "Try using .loc[row_indexer,col_indexer] = value instead\n",
      "\n",
      "See the caveats in the documentation: https://pandas.pydata.org/pandas-docs/stable/user_guide/indexing.html#returning-a-view-versus-a-copy\n",
      "  self[k1] = value[k2]\n"
     ]
    }
   ],
   "source": [
    "# Since base salary + stockgrantvalue + bonus = totalyearlycompensation\n",
    "# For data_comp, we can set all NaN values to 0 for stockgrantvalue and bonus\n",
    "data_comp[['stockgrantvalue', 'bonus']] = data_comp[['stockgrantvalue', 'bonus']].fillna(0)"
   ]
  },
  {
   "cell_type": "code",
   "execution_count": 33,
   "id": "6d223463",
   "metadata": {},
   "outputs": [],
   "source": [
    "# Drop duplicate column of sumof3compensation\n",
    "data_comp = data_comp.drop(columns = ['sumof3compensation'])"
   ]
  },
  {
   "cell_type": "code",
   "execution_count": 34,
   "id": "b7c6679e",
   "metadata": {},
   "outputs": [
    {
     "data": {
      "text/html": [
       "<div>\n",
       "<style scoped>\n",
       "    .dataframe tbody tr th:only-of-type {\n",
       "        vertical-align: middle;\n",
       "    }\n",
       "\n",
       "    .dataframe tbody tr th {\n",
       "        vertical-align: top;\n",
       "    }\n",
       "\n",
       "    .dataframe thead th {\n",
       "        text-align: right;\n",
       "    }\n",
       "</style>\n",
       "<table border=\"1\" class=\"dataframe\">\n",
       "  <thead>\n",
       "    <tr style=\"text-align: right;\">\n",
       "      <th></th>\n",
       "      <th>timestamp</th>\n",
       "      <th>company</th>\n",
       "      <th>level</th>\n",
       "      <th>title</th>\n",
       "      <th>totalyearlycompensation</th>\n",
       "      <th>location</th>\n",
       "      <th>yearsofexperience</th>\n",
       "      <th>yearsatcompany</th>\n",
       "      <th>tag</th>\n",
       "      <th>basesalary</th>\n",
       "      <th>stockgrantvalue</th>\n",
       "      <th>bonus</th>\n",
       "      <th>gender</th>\n",
       "      <th>otherdetails</th>\n",
       "      <th>cityid</th>\n",
       "      <th>dmaid</th>\n",
       "      <th>rowNumber</th>\n",
       "      <th>Race</th>\n",
       "      <th>Education</th>\n",
       "    </tr>\n",
       "  </thead>\n",
       "  <tbody>\n",
       "    <tr>\n",
       "      <th>5</th>\n",
       "      <td>2017-06-17 00:23:14</td>\n",
       "      <td>Apple</td>\n",
       "      <td>M1</td>\n",
       "      <td>Software Engineering Manager</td>\n",
       "      <td>372000.0</td>\n",
       "      <td>Sunnyvale, CA</td>\n",
       "      <td>7.0</td>\n",
       "      <td>5.0</td>\n",
       "      <td>NaN</td>\n",
       "      <td>157000.0</td>\n",
       "      <td>180000.0</td>\n",
       "      <td>35000.0</td>\n",
       "      <td>NaN</td>\n",
       "      <td>NaN</td>\n",
       "      <td>7472</td>\n",
       "      <td>807</td>\n",
       "      <td>7</td>\n",
       "      <td>NaN</td>\n",
       "      <td>NaN</td>\n",
       "    </tr>\n",
       "    <tr>\n",
       "      <th>9</th>\n",
       "      <td>2017-06-22 12:37:51</td>\n",
       "      <td>Microsoft</td>\n",
       "      <td>65</td>\n",
       "      <td>Software Engineering Manager</td>\n",
       "      <td>300000.0</td>\n",
       "      <td>Redmond, WA</td>\n",
       "      <td>15.0</td>\n",
       "      <td>11.0</td>\n",
       "      <td>NaN</td>\n",
       "      <td>180000.0</td>\n",
       "      <td>65000.0</td>\n",
       "      <td>55000.0</td>\n",
       "      <td>NaN</td>\n",
       "      <td>NaN</td>\n",
       "      <td>11521</td>\n",
       "      <td>819</td>\n",
       "      <td>12</td>\n",
       "      <td>NaN</td>\n",
       "      <td>NaN</td>\n",
       "    </tr>\n",
       "    <tr>\n",
       "      <th>10</th>\n",
       "      <td>2017-06-22 13:55:26</td>\n",
       "      <td>Microsoft</td>\n",
       "      <td>62</td>\n",
       "      <td>Software Engineer</td>\n",
       "      <td>156000.0</td>\n",
       "      <td>Seattle, WA</td>\n",
       "      <td>4.0</td>\n",
       "      <td>4.0</td>\n",
       "      <td>NaN</td>\n",
       "      <td>135000.0</td>\n",
       "      <td>8000.0</td>\n",
       "      <td>13000.0</td>\n",
       "      <td>NaN</td>\n",
       "      <td>NaN</td>\n",
       "      <td>11527</td>\n",
       "      <td>819</td>\n",
       "      <td>13</td>\n",
       "      <td>NaN</td>\n",
       "      <td>NaN</td>\n",
       "    </tr>\n",
       "    <tr>\n",
       "      <th>18</th>\n",
       "      <td>2017-07-07 22:29:34</td>\n",
       "      <td>Microsoft</td>\n",
       "      <td>63</td>\n",
       "      <td>Software Engineer</td>\n",
       "      <td>191000.0</td>\n",
       "      <td>Seattle, WA</td>\n",
       "      <td>7.0</td>\n",
       "      <td>7.0</td>\n",
       "      <td>NaN</td>\n",
       "      <td>152000.0</td>\n",
       "      <td>17000.0</td>\n",
       "      <td>22000.0</td>\n",
       "      <td>NaN</td>\n",
       "      <td>NaN</td>\n",
       "      <td>11527</td>\n",
       "      <td>819</td>\n",
       "      <td>21</td>\n",
       "      <td>NaN</td>\n",
       "      <td>NaN</td>\n",
       "    </tr>\n",
       "    <tr>\n",
       "      <th>21</th>\n",
       "      <td>2017-07-16 16:50:46</td>\n",
       "      <td>Amazon</td>\n",
       "      <td>L5</td>\n",
       "      <td>Software Engineer</td>\n",
       "      <td>218000.0</td>\n",
       "      <td>Seattle, WA</td>\n",
       "      <td>10.0</td>\n",
       "      <td>0.0</td>\n",
       "      <td>NaN</td>\n",
       "      <td>150000.0</td>\n",
       "      <td>7000.0</td>\n",
       "      <td>61000.0</td>\n",
       "      <td>NaN</td>\n",
       "      <td>NaN</td>\n",
       "      <td>11527</td>\n",
       "      <td>819</td>\n",
       "      <td>25</td>\n",
       "      <td>NaN</td>\n",
       "      <td>NaN</td>\n",
       "    </tr>\n",
       "  </tbody>\n",
       "</table>\n",
       "</div>"
      ],
      "text/plain": [
       "             timestamp    company level                         title  \\\n",
       "5  2017-06-17 00:23:14      Apple    M1  Software Engineering Manager   \n",
       "9  2017-06-22 12:37:51  Microsoft    65  Software Engineering Manager   \n",
       "10 2017-06-22 13:55:26  Microsoft    62             Software Engineer   \n",
       "18 2017-07-07 22:29:34  Microsoft    63             Software Engineer   \n",
       "21 2017-07-16 16:50:46     Amazon    L5             Software Engineer   \n",
       "\n",
       "    totalyearlycompensation       location  yearsofexperience  yearsatcompany  \\\n",
       "5                  372000.0  Sunnyvale, CA                7.0             5.0   \n",
       "9                  300000.0    Redmond, WA               15.0            11.0   \n",
       "10                 156000.0    Seattle, WA                4.0             4.0   \n",
       "18                 191000.0    Seattle, WA                7.0             7.0   \n",
       "21                 218000.0    Seattle, WA               10.0             0.0   \n",
       "\n",
       "    tag  basesalary  stockgrantvalue    bonus gender otherdetails cityid  \\\n",
       "5   NaN    157000.0         180000.0  35000.0    NaN          NaN   7472   \n",
       "9   NaN    180000.0          65000.0  55000.0    NaN          NaN  11521   \n",
       "10  NaN    135000.0           8000.0  13000.0    NaN          NaN  11527   \n",
       "18  NaN    152000.0          17000.0  22000.0    NaN          NaN  11527   \n",
       "21  NaN    150000.0           7000.0  61000.0    NaN          NaN  11527   \n",
       "\n",
       "   dmaid  rowNumber Race Education  \n",
       "5    807          7  NaN       NaN  \n",
       "9    819         12  NaN       NaN  \n",
       "10   819         13  NaN       NaN  \n",
       "18   819         21  NaN       NaN  \n",
       "21   819         25  NaN       NaN  "
      ]
     },
     "execution_count": 34,
     "metadata": {},
     "output_type": "execute_result"
    }
   ],
   "source": [
    "# View first 5 rows of data_comp\n",
    "data_comp.head(5)"
   ]
  },
  {
   "cell_type": "code",
   "execution_count": 35,
   "id": "2eb0b7d1",
   "metadata": {},
   "outputs": [],
   "source": [
    "# Download data_comp as .csv file to your local directory\n",
    "data_comp.to_csv('data_comp.csv')"
   ]
  },
  {
   "cell_type": "markdown",
   "id": "a7578f97",
   "metadata": {},
   "source": [
    "## 2. Exploratory Data Analysis"
   ]
  },
  {
   "cell_type": "markdown",
   "id": "79386918",
   "metadata": {},
   "source": [
    "###  Distribution of numerical and categorical variables"
   ]
  },
  {
   "cell_type": "code",
   "execution_count": 36,
   "id": "77dd4193",
   "metadata": {},
   "outputs": [
    {
     "data": {
      "image/png": "[encoded data removed]",
      "text/plain": [
       "<Figure size 1728x1152 with 6 Axes>"
      ]
     },
     "metadata": {
      "needs_background": "light"
     },
     "output_type": "display_data"
    }
   ],
   "source": [
    "# Plot histograms of numerical variables\n",
    "nrows = 3\n",
    "ncols = 2\n",
    "fig, axes = plt.subplots(nrows = nrows, ncols = ncols, figsize=(24, 16)) # Create figure with 6 subplots\n",
    "plt.style.use('seaborn-whitegrid') # Style\n",
    "fig.suptitle(\"Distribution of Numerical Variables\", fontsize = 30) # Title\n",
    "col_list = ['yearsofexperience','yearsatcompany','totalyearlycompensation','basesalary','stockgrantvalue','bonus'] # xlabels\n",
    "for i in range(nrows):\n",
    "    for j in range(ncols):\n",
    "        axes[i, j].set_title('Distribution of ' + col_list[i*ncols+j], fontsize=20) # Subplot title\n",
    "        # Plot histogram\n",
    "        n, bins, patches = axes[i,j].hist(data_comp[col_list[i*ncols+j]], bins =70, facecolor='#2ab0ff', edgecolor='#e0e0e0', linewidth=0.5, alpha=0.7)\n",
    "        n = n.astype('int') # n needs to be an integer\n",
    "        for k in range(len(patches)):\n",
    "            patches[k].set_facecolor(plt.cm.viridis(n[k]/max(n))) # Change bin color based on height\n",
    "        axes[i,j].set_xlim(0,0.4*data_comp[col_list[i*ncols+j]].max()) # Set xlim to remove outliers\n",
    "plt.savefig('./visualizations/Distribution_of_Numerical_Variables') # Save figure\n",
    "plt.show()"
   ]
  },
  {
   "cell_type": "code",
   "execution_count": 37,
   "id": "636d2333",
   "metadata": {},
   "outputs": [
    {
     "name": "stdout",
     "output_type": "stream",
     "text": [
      "Column:  yearsofexperience\n",
      "Min of column 0.0\n",
      "Max of column 69.0\n",
      "Median of column 6.0\n",
      "--------------------------------------------------------------------------------\n",
      "Column:  yearsatcompany\n",
      "Min of column 0.0\n",
      "Max of column 69.0\n",
      "Median of column 2.0\n",
      "--------------------------------------------------------------------------------\n",
      "Column:  totalyearlycompensation\n",
      "Min of column 10000.0\n",
      "Max of column 4980000.0\n",
      "Median of column 190000.0\n",
      "--------------------------------------------------------------------------------\n",
      "Column:  basesalary\n",
      "Min of column 1000.0\n",
      "Max of column 900000.0\n",
      "Median of column 143000.0\n",
      "--------------------------------------------------------------------------------\n",
      "Column:  stockgrantvalue\n",
      "Min of column 0.0\n",
      "Max of column 4400000.0\n",
      "Median of column 25000.0\n",
      "--------------------------------------------------------------------------------\n",
      "Column:  bonus\n",
      "Min of column 0.0\n",
      "Max of column 1040000.0\n",
      "Median of column 15000.0\n",
      "--------------------------------------------------------------------------------\n"
     ]
    }
   ],
   "source": [
    "# Min, Max, and Median of each numerical column plotted above\n",
    "for col in col_list:\n",
    "    print('Column: ', col)\n",
    "    print('Min of column', data_comp[col].min())\n",
    "    print('Max of column', data_comp[col].max())\n",
    "    print('Median of column', data_comp[col].median())\n",
    "    print('-'*80)"
   ]
  },
  {
   "cell_type": "code",
   "execution_count": 38,
   "id": "56733bf9",
   "metadata": {},
   "outputs": [
    {
     "data": {
      "text/html": [
       "<div>\n",
       "<style scoped>\n",
       "    .dataframe tbody tr th:only-of-type {\n",
       "        vertical-align: middle;\n",
       "    }\n",
       "\n",
       "    .dataframe tbody tr th {\n",
       "        vertical-align: top;\n",
       "    }\n",
       "\n",
       "    .dataframe thead th {\n",
       "        text-align: right;\n",
       "    }\n",
       "</style>\n",
       "<table border=\"1\" class=\"dataframe\">\n",
       "  <thead>\n",
       "    <tr style=\"text-align: right;\">\n",
       "      <th></th>\n",
       "      <th>location</th>\n",
       "    </tr>\n",
       "  </thead>\n",
       "  <tbody>\n",
       "    <tr>\n",
       "      <th>Seattle, WA</th>\n",
       "      <td>6654</td>\n",
       "    </tr>\n",
       "    <tr>\n",
       "      <th>San Francisco, CA</th>\n",
       "      <td>5427</td>\n",
       "    </tr>\n",
       "    <tr>\n",
       "      <th>New York, NY</th>\n",
       "      <td>3860</td>\n",
       "    </tr>\n",
       "    <tr>\n",
       "      <th>Redmond, WA</th>\n",
       "      <td>1989</td>\n",
       "    </tr>\n",
       "    <tr>\n",
       "      <th>Mountain View, CA</th>\n",
       "      <td>1773</td>\n",
       "    </tr>\n",
       "    <tr>\n",
       "      <th>Sunnyvale, CA</th>\n",
       "      <td>1744</td>\n",
       "    </tr>\n",
       "    <tr>\n",
       "      <th>San Jose, CA</th>\n",
       "      <td>1643</td>\n",
       "    </tr>\n",
       "    <tr>\n",
       "      <th>Austin, TX</th>\n",
       "      <td>1253</td>\n",
       "    </tr>\n",
       "    <tr>\n",
       "      <th>Cupertino, CA</th>\n",
       "      <td>1173</td>\n",
       "    </tr>\n",
       "    <tr>\n",
       "      <th>Menlo Park, CA</th>\n",
       "      <td>1151</td>\n",
       "    </tr>\n",
       "  </tbody>\n",
       "</table>\n",
       "</div>"
      ],
      "text/plain": [
       "                   location\n",
       "Seattle, WA            6654\n",
       "San Francisco, CA      5427\n",
       "New York, NY           3860\n",
       "Redmond, WA            1989\n",
       "Mountain View, CA      1773\n",
       "Sunnyvale, CA          1744\n",
       "San Jose, CA           1643\n",
       "Austin, TX             1253\n",
       "Cupertino, CA          1173\n",
       "Menlo Park, CA         1151"
      ]
     },
     "execution_count": 38,
     "metadata": {},
     "output_type": "execute_result"
    }
   ],
   "source": [
    "# Top ten locations by count\n",
    "pd.DataFrame(data_comp['location'].value_counts()[:10])"
   ]
  },
  {
   "cell_type": "code",
   "execution_count": 39,
   "id": "f0a17dd5",
   "metadata": {},
   "outputs": [
    {
     "data": {
      "text/html": [
       "<div>\n",
       "<style scoped>\n",
       "    .dataframe tbody tr th:only-of-type {\n",
       "        vertical-align: middle;\n",
       "    }\n",
       "\n",
       "    .dataframe tbody tr th {\n",
       "        vertical-align: top;\n",
       "    }\n",
       "\n",
       "    .dataframe thead th {\n",
       "        text-align: right;\n",
       "    }\n",
       "</style>\n",
       "<table border=\"1\" class=\"dataframe\">\n",
       "  <thead>\n",
       "    <tr style=\"text-align: right;\">\n",
       "      <th></th>\n",
       "      <th>company</th>\n",
       "    </tr>\n",
       "  </thead>\n",
       "  <tbody>\n",
       "    <tr>\n",
       "      <th>Amazon</th>\n",
       "      <td>5978</td>\n",
       "    </tr>\n",
       "    <tr>\n",
       "      <th>Microsoft</th>\n",
       "      <td>3827</td>\n",
       "    </tr>\n",
       "    <tr>\n",
       "      <th>Google</th>\n",
       "      <td>3356</td>\n",
       "    </tr>\n",
       "    <tr>\n",
       "      <th>Facebook</th>\n",
       "      <td>2368</td>\n",
       "    </tr>\n",
       "    <tr>\n",
       "      <th>Apple</th>\n",
       "      <td>1639</td>\n",
       "    </tr>\n",
       "    <tr>\n",
       "      <th>Oracle</th>\n",
       "      <td>947</td>\n",
       "    </tr>\n",
       "    <tr>\n",
       "      <th>Salesforce</th>\n",
       "      <td>789</td>\n",
       "    </tr>\n",
       "    <tr>\n",
       "      <th>IBM</th>\n",
       "      <td>724</td>\n",
       "    </tr>\n",
       "    <tr>\n",
       "      <th>Intel</th>\n",
       "      <td>714</td>\n",
       "    </tr>\n",
       "    <tr>\n",
       "      <th>Cisco</th>\n",
       "      <td>697</td>\n",
       "    </tr>\n",
       "  </tbody>\n",
       "</table>\n",
       "</div>"
      ],
      "text/plain": [
       "            company\n",
       "Amazon         5978\n",
       "Microsoft      3827\n",
       "Google         3356\n",
       "Facebook       2368\n",
       "Apple          1639\n",
       "Oracle          947\n",
       "Salesforce      789\n",
       "IBM             724\n",
       "Intel           714\n",
       "Cisco           697"
      ]
     },
     "execution_count": 39,
     "metadata": {},
     "output_type": "execute_result"
    }
   ],
   "source": [
    "# Top ten companies by count\n",
    "pd.DataFrame(data_comp['company'].value_counts()[:10])"
   ]
  },
  {
   "cell_type": "code",
   "execution_count": 40,
   "id": "39c70c9a",
   "metadata": {},
   "outputs": [
    {
     "data": {
      "text/html": [
       "<div>\n",
       "<style scoped>\n",
       "    .dataframe tbody tr th:only-of-type {\n",
       "        vertical-align: middle;\n",
       "    }\n",
       "\n",
       "    .dataframe tbody tr th {\n",
       "        vertical-align: top;\n",
       "    }\n",
       "\n",
       "    .dataframe thead th {\n",
       "        text-align: right;\n",
       "    }\n",
       "</style>\n",
       "<table border=\"1\" class=\"dataframe\">\n",
       "  <thead>\n",
       "    <tr style=\"text-align: right;\">\n",
       "      <th></th>\n",
       "      <th>title</th>\n",
       "    </tr>\n",
       "  </thead>\n",
       "  <tbody>\n",
       "    <tr>\n",
       "      <th>Software Engineer</th>\n",
       "      <td>32637</td>\n",
       "    </tr>\n",
       "    <tr>\n",
       "      <th>Product Manager</th>\n",
       "      <td>3592</td>\n",
       "    </tr>\n",
       "    <tr>\n",
       "      <th>Software Engineering Manager</th>\n",
       "      <td>2855</td>\n",
       "    </tr>\n",
       "    <tr>\n",
       "      <th>Data Scientist</th>\n",
       "      <td>2098</td>\n",
       "    </tr>\n",
       "    <tr>\n",
       "      <th>Hardware Engineer</th>\n",
       "      <td>1838</td>\n",
       "    </tr>\n",
       "    <tr>\n",
       "      <th>Product Designer</th>\n",
       "      <td>1213</td>\n",
       "    </tr>\n",
       "    <tr>\n",
       "      <th>Technical Program Manager</th>\n",
       "      <td>1161</td>\n",
       "    </tr>\n",
       "    <tr>\n",
       "      <th>Solution Architect</th>\n",
       "      <td>921</td>\n",
       "    </tr>\n",
       "    <tr>\n",
       "      <th>Management Consultant</th>\n",
       "      <td>846</td>\n",
       "    </tr>\n",
       "    <tr>\n",
       "      <th>Business Analyst</th>\n",
       "      <td>721</td>\n",
       "    </tr>\n",
       "  </tbody>\n",
       "</table>\n",
       "</div>"
      ],
      "text/plain": [
       "                              title\n",
       "Software Engineer             32637\n",
       "Product Manager                3592\n",
       "Software Engineering Manager   2855\n",
       "Data Scientist                 2098\n",
       "Hardware Engineer              1838\n",
       "Product Designer               1213\n",
       "Technical Program Manager      1161\n",
       "Solution Architect              921\n",
       "Management Consultant           846\n",
       "Business Analyst                721"
      ]
     },
     "execution_count": 40,
     "metadata": {},
     "output_type": "execute_result"
    }
   ],
   "source": [
    "# Top ten job titles by count\n",
    "pd.DataFrame(data_comp['title'].value_counts()[:10])"
   ]
  },
  {
   "cell_type": "code",
   "execution_count": 41,
   "id": "52e9fd30",
   "metadata": {},
   "outputs": [
    {
     "data": {
      "text/html": [
       "<div>\n",
       "<style scoped>\n",
       "    .dataframe tbody tr th:only-of-type {\n",
       "        vertical-align: middle;\n",
       "    }\n",
       "\n",
       "    .dataframe tbody tr th {\n",
       "        vertical-align: top;\n",
       "    }\n",
       "\n",
       "    .dataframe thead th {\n",
       "        text-align: right;\n",
       "    }\n",
       "</style>\n",
       "<table border=\"1\" class=\"dataframe\">\n",
       "  <thead>\n",
       "    <tr style=\"text-align: right;\">\n",
       "      <th></th>\n",
       "      <th>gender</th>\n",
       "    </tr>\n",
       "  </thead>\n",
       "  <tbody>\n",
       "    <tr>\n",
       "      <th>Male</th>\n",
       "      <td>28876</td>\n",
       "    </tr>\n",
       "    <tr>\n",
       "      <th>Female</th>\n",
       "      <td>5549</td>\n",
       "    </tr>\n",
       "    <tr>\n",
       "      <th>Other</th>\n",
       "      <td>330</td>\n",
       "    </tr>\n",
       "  </tbody>\n",
       "</table>\n",
       "</div>"
      ],
      "text/plain": [
       "        gender\n",
       "Male     28876\n",
       "Female    5549\n",
       "Other      330"
      ]
     },
     "execution_count": 41,
     "metadata": {},
     "output_type": "execute_result"
    }
   ],
   "source": [
    "# Gender distribution \n",
    "pd.DataFrame(data_comp['gender'].value_counts())"
   ]
  },
  {
   "cell_type": "code",
   "execution_count": 42,
   "id": "54bc5dc9",
   "metadata": {},
   "outputs": [
    {
     "data": {
      "text/html": [
       "<div>\n",
       "<style scoped>\n",
       "    .dataframe tbody tr th:only-of-type {\n",
       "        vertical-align: middle;\n",
       "    }\n",
       "\n",
       "    .dataframe tbody tr th {\n",
       "        vertical-align: top;\n",
       "    }\n",
       "\n",
       "    .dataframe thead th {\n",
       "        text-align: right;\n",
       "    }\n",
       "</style>\n",
       "<table border=\"1\" class=\"dataframe\">\n",
       "  <thead>\n",
       "    <tr style=\"text-align: right;\">\n",
       "      <th></th>\n",
       "      <th>Race</th>\n",
       "    </tr>\n",
       "  </thead>\n",
       "  <tbody>\n",
       "    <tr>\n",
       "      <th>Asian</th>\n",
       "      <td>9582</td>\n",
       "    </tr>\n",
       "    <tr>\n",
       "      <th>White</th>\n",
       "      <td>6825</td>\n",
       "    </tr>\n",
       "    <tr>\n",
       "      <th>Hispanic</th>\n",
       "      <td>941</td>\n",
       "    </tr>\n",
       "    <tr>\n",
       "      <th>Two or More Races</th>\n",
       "      <td>680</td>\n",
       "    </tr>\n",
       "    <tr>\n",
       "      <th>Black</th>\n",
       "      <td>577</td>\n",
       "    </tr>\n",
       "    <tr>\n",
       "      <th>American Indian or Alaska Native</th>\n",
       "      <td>55</td>\n",
       "    </tr>\n",
       "    <tr>\n",
       "      <th>Native Hawaiian or Other Pacific Islander</th>\n",
       "      <td>27</td>\n",
       "    </tr>\n",
       "  </tbody>\n",
       "</table>\n",
       "</div>"
      ],
      "text/plain": [
       "                                           Race\n",
       "Asian                                      9582\n",
       "White                                      6825\n",
       "Hispanic                                    941\n",
       "Two or More Races                           680\n",
       "Black                                       577\n",
       "American Indian or Alaska Native             55\n",
       "Native Hawaiian or Other Pacific Islander    27"
      ]
     },
     "execution_count": 42,
     "metadata": {},
     "output_type": "execute_result"
    }
   ],
   "source": [
    "# Race distribution \n",
    "pd.DataFrame(data_comp['Race'].value_counts())"
   ]
  },
  {
   "cell_type": "code",
   "execution_count": 43,
   "id": "e150400d",
   "metadata": {},
   "outputs": [
    {
     "data": {
      "text/html": [
       "<div>\n",
       "<style scoped>\n",
       "    .dataframe tbody tr th:only-of-type {\n",
       "        vertical-align: middle;\n",
       "    }\n",
       "\n",
       "    .dataframe tbody tr th {\n",
       "        vertical-align: top;\n",
       "    }\n",
       "\n",
       "    .dataframe thead th {\n",
       "        text-align: right;\n",
       "    }\n",
       "</style>\n",
       "<table border=\"1\" class=\"dataframe\">\n",
       "  <thead>\n",
       "    <tr style=\"text-align: right;\">\n",
       "      <th></th>\n",
       "      <th>Education</th>\n",
       "    </tr>\n",
       "  </thead>\n",
       "  <tbody>\n",
       "    <tr>\n",
       "      <th>Bachelor</th>\n",
       "      <td>10438</td>\n",
       "    </tr>\n",
       "    <tr>\n",
       "      <th>Master</th>\n",
       "      <td>9102</td>\n",
       "    </tr>\n",
       "    <tr>\n",
       "      <th>Doctorate</th>\n",
       "      <td>1038</td>\n",
       "    </tr>\n",
       "    <tr>\n",
       "      <th>Some college coursework completed</th>\n",
       "      <td>287</td>\n",
       "    </tr>\n",
       "    <tr>\n",
       "      <th>High school or equivalent</th>\n",
       "      <td>268</td>\n",
       "    </tr>\n",
       "    <tr>\n",
       "      <th>Associate</th>\n",
       "      <td>119</td>\n",
       "    </tr>\n",
       "    <tr>\n",
       "      <th>Technical or occupational certificate</th>\n",
       "      <td>90</td>\n",
       "    </tr>\n",
       "  </tbody>\n",
       "</table>\n",
       "</div>"
      ],
      "text/plain": [
       "                                       Education\n",
       "Bachelor                                   10438\n",
       "Master                                      9102\n",
       "Doctorate                                   1038\n",
       "Some college coursework completed            287\n",
       "High school or equivalent                    268\n",
       "Associate                                    119\n",
       "Technical or occupational certificate         90"
      ]
     },
     "execution_count": 43,
     "metadata": {},
     "output_type": "execute_result"
    }
   ],
   "source": [
    "# Education distribution \n",
    "pd.DataFrame(data_comp['Education'].value_counts())"
   ]
  },
  {
   "cell_type": "markdown",
   "id": "29e6509f",
   "metadata": {},
   "source": [
    "### Correlation Analysis"
   ]
  },
  {
   "cell_type": "code",
   "execution_count": 44,
   "id": "e7b76e85",
   "metadata": {},
   "outputs": [],
   "source": [
    "# List of numerical variables columns \n",
    "encoded_df = data_comp[['yearsofexperience','yearsatcompany','totalyearlycompensation','basesalary','stockgrantvalue','bonus']]"
   ]
  },
  {
   "cell_type": "code",
   "execution_count": 45,
   "id": "59932711",
   "metadata": {},
   "outputs": [
    {
     "data": {
      "image/png": "[encoded data removed]",
      "text/plain": [
       "<Figure size 864x864 with 2 Axes>"
      ]
     },
     "metadata": {},
     "output_type": "display_data"
    }
   ],
   "source": [
    "# Plot heatmap of correlation matrix\n",
    "fig = plt.figure(figsize = (12,12))\n",
    "heatmap_plot = sns.heatmap(encoded_df.corr(), cmap=\"YlGnBu\", annot=True)\n",
    "plt.savefig('./visualizations/Correlation_Heat_Map') #Save figure\n",
    "plt.show()"
   ]
  },
  {
   "cell_type": "markdown",
   "id": "b53145f0",
   "metadata": {},
   "source": [
    "### Salary breakdown by years of experience"
   ]
  },
  {
   "cell_type": "code",
   "execution_count": 46,
   "id": "2b4796a6",
   "metadata": {},
   "outputs": [
    {
     "data": {
      "image/png": "[encoded data removed]",
      "text/plain": [
       "<Figure size 864x576 with 1 Axes>"
      ]
     },
     "metadata": {},
     "output_type": "display_data"
    }
   ],
   "source": [
    "# Plot average salary decomposition by years of experience\n",
    "plt.figure(figsize=(12,8))\n",
    "col_list = ['basesalary','stockgrantvalue','bonus'] # Columns\n",
    "color_list = ['cornflowerblue', 'khaki','darkseagreen'] # Colors\n",
    "bottom = np.zeros(len(range(0, 45, 5))) # Initialize bottom\n",
    "# Loop through 3 columns\n",
    "for n in range(3):\n",
    "    avg_sal = []\n",
    "    x = range(0, 45, 5)\n",
    "    for i in x:\n",
    "        # Group by every 5 years of experience\n",
    "        avg_sal.append(data_comp[(data_comp['yearsofexperience'] >=i) & (data_comp['yearsofexperience'] < i+5)][col_list[n]].mean()) \n",
    "    plt.bar(x, avg_sal,label=col_list[n], color = color_list[n], bottom=bottom, width = 3) # Barplot\n",
    "    bottom += np.array(avg_sal) # Create stacked bar plot\n",
    "    plt.xticks(x, x) # xticks\n",
    "plt.legend(col_list) # Legend\n",
    "plt.xlabel('Years of Experience (groups of 5 years)') # xLabel\n",
    "plt.ylabel('Average Salary Decomposition (dollars)') # yLabel\n",
    "plt.title('Salary Decomposition by Years of Experience \\n', fontsize = 16) # Title\n",
    "plt.savefig('./visualizations/Salary_Decomposition_by_Years_of_Experience') # Save figure\n",
    "plt.show()"
   ]
  },
  {
   "cell_type": "markdown",
   "id": "38db703e",
   "metadata": {},
   "source": [
    "### Salary breakdown by title\n"
   ]
  },
  {
   "cell_type": "code",
   "execution_count": 47,
   "id": "424bc2a0",
   "metadata": {},
   "outputs": [
    {
     "data": {
      "text/html": [
       "<div>\n",
       "<style scoped>\n",
       "    .dataframe tbody tr th:only-of-type {\n",
       "        vertical-align: middle;\n",
       "    }\n",
       "\n",
       "    .dataframe tbody tr th {\n",
       "        vertical-align: top;\n",
       "    }\n",
       "\n",
       "    .dataframe thead th {\n",
       "        text-align: right;\n",
       "    }\n",
       "</style>\n",
       "<table border=\"1\" class=\"dataframe\">\n",
       "  <thead>\n",
       "    <tr style=\"text-align: right;\">\n",
       "      <th></th>\n",
       "      <th>totalyearlycompensation</th>\n",
       "      <th>basesalary</th>\n",
       "      <th>stockgrantvalue</th>\n",
       "      <th>bonus</th>\n",
       "    </tr>\n",
       "    <tr>\n",
       "      <th>title</th>\n",
       "      <th></th>\n",
       "      <th></th>\n",
       "      <th></th>\n",
       "      <th></th>\n",
       "    </tr>\n",
       "  </thead>\n",
       "  <tbody>\n",
       "    <tr>\n",
       "      <th>Business Analyst</th>\n",
       "      <td>131352.288488</td>\n",
       "      <td>104762.829404</td>\n",
       "      <td>14123.439667</td>\n",
       "      <td>12466.019417</td>\n",
       "    </tr>\n",
       "    <tr>\n",
       "      <th>Recruiter</th>\n",
       "      <td>158359.550562</td>\n",
       "      <td>120839.887640</td>\n",
       "      <td>24696.629213</td>\n",
       "      <td>12823.033708</td>\n",
       "    </tr>\n",
       "    <tr>\n",
       "      <th>Mechanical Engineer</th>\n",
       "      <td>161414.285714</td>\n",
       "      <td>120269.047619</td>\n",
       "      <td>29452.380952</td>\n",
       "      <td>11692.857143</td>\n",
       "    </tr>\n",
       "    <tr>\n",
       "      <th>Management Consultant</th>\n",
       "      <td>166151.300236</td>\n",
       "      <td>138275.413712</td>\n",
       "      <td>5663.120567</td>\n",
       "      <td>22212.765957</td>\n",
       "    </tr>\n",
       "    <tr>\n",
       "      <th>Human Resources</th>\n",
       "      <td>182453.642384</td>\n",
       "      <td>130602.649007</td>\n",
       "      <td>32453.642384</td>\n",
       "      <td>19397.350993</td>\n",
       "    </tr>\n",
       "    <tr>\n",
       "      <th>Marketing</th>\n",
       "      <td>199954.545455</td>\n",
       "      <td>141874.125874</td>\n",
       "      <td>38159.090909</td>\n",
       "      <td>19921.328671</td>\n",
       "    </tr>\n",
       "    <tr>\n",
       "      <th>Data Scientist</th>\n",
       "      <td>206446.615825</td>\n",
       "      <td>145141.563394</td>\n",
       "      <td>42904.194471</td>\n",
       "      <td>18400.857960</td>\n",
       "    </tr>\n",
       "    <tr>\n",
       "      <th>Software Engineer</th>\n",
       "      <td>208425.103410</td>\n",
       "      <td>139293.265312</td>\n",
       "      <td>51278.211845</td>\n",
       "      <td>17853.626252</td>\n",
       "    </tr>\n",
       "    <tr>\n",
       "      <th>Product Designer</th>\n",
       "      <td>208854.080791</td>\n",
       "      <td>143014.839242</td>\n",
       "      <td>47769.991756</td>\n",
       "      <td>18069.249794</td>\n",
       "    </tr>\n",
       "    <tr>\n",
       "      <th>Solution Architect</th>\n",
       "      <td>215684.039088</td>\n",
       "      <td>149123.778502</td>\n",
       "      <td>39807.817590</td>\n",
       "      <td>26752.442997</td>\n",
       "    </tr>\n",
       "    <tr>\n",
       "      <th>Hardware Engineer</th>\n",
       "      <td>217813.928183</td>\n",
       "      <td>144284.004353</td>\n",
       "      <td>50735.038085</td>\n",
       "      <td>22794.885745</td>\n",
       "    </tr>\n",
       "    <tr>\n",
       "      <th>Sales</th>\n",
       "      <td>218748.051948</td>\n",
       "      <td>121903.896104</td>\n",
       "      <td>32903.896104</td>\n",
       "      <td>63940.259740</td>\n",
       "    </tr>\n",
       "    <tr>\n",
       "      <th>Technical Program Manager</th>\n",
       "      <td>241795.004307</td>\n",
       "      <td>158251.507321</td>\n",
       "      <td>59874.246339</td>\n",
       "      <td>23669.250646</td>\n",
       "    </tr>\n",
       "    <tr>\n",
       "      <th>Product Manager</th>\n",
       "      <td>261583.797327</td>\n",
       "      <td>158998.608018</td>\n",
       "      <td>76970.768374</td>\n",
       "      <td>25614.420935</td>\n",
       "    </tr>\n",
       "    <tr>\n",
       "      <th>Software Engineering Manager</th>\n",
       "      <td>359004.203152</td>\n",
       "      <td>188167.775832</td>\n",
       "      <td>133302.977233</td>\n",
       "      <td>37533.450088</td>\n",
       "    </tr>\n",
       "  </tbody>\n",
       "</table>\n",
       "</div>"
      ],
      "text/plain": [
       "                              totalyearlycompensation     basesalary  \\\n",
       "title                                                                  \n",
       "Business Analyst                        131352.288488  104762.829404   \n",
       "Recruiter                               158359.550562  120839.887640   \n",
       "Mechanical Engineer                     161414.285714  120269.047619   \n",
       "Management Consultant                   166151.300236  138275.413712   \n",
       "Human Resources                         182453.642384  130602.649007   \n",
       "Marketing                               199954.545455  141874.125874   \n",
       "Data Scientist                          206446.615825  145141.563394   \n",
       "Software Engineer                       208425.103410  139293.265312   \n",
       "Product Designer                        208854.080791  143014.839242   \n",
       "Solution Architect                      215684.039088  149123.778502   \n",
       "Hardware Engineer                       217813.928183  144284.004353   \n",
       "Sales                                   218748.051948  121903.896104   \n",
       "Technical Program Manager               241795.004307  158251.507321   \n",
       "Product Manager                         261583.797327  158998.608018   \n",
       "Software Engineering Manager            359004.203152  188167.775832   \n",
       "\n",
       "                              stockgrantvalue         bonus  \n",
       "title                                                        \n",
       "Business Analyst                 14123.439667  12466.019417  \n",
       "Recruiter                        24696.629213  12823.033708  \n",
       "Mechanical Engineer              29452.380952  11692.857143  \n",
       "Management Consultant             5663.120567  22212.765957  \n",
       "Human Resources                  32453.642384  19397.350993  \n",
       "Marketing                        38159.090909  19921.328671  \n",
       "Data Scientist                   42904.194471  18400.857960  \n",
       "Software Engineer                51278.211845  17853.626252  \n",
       "Product Designer                 47769.991756  18069.249794  \n",
       "Solution Architect               39807.817590  26752.442997  \n",
       "Hardware Engineer                50735.038085  22794.885745  \n",
       "Sales                            32903.896104  63940.259740  \n",
       "Technical Program Manager        59874.246339  23669.250646  \n",
       "Product Manager                  76970.768374  25614.420935  \n",
       "Software Engineering Manager    133302.977233  37533.450088  "
      ]
     },
     "execution_count": 47,
     "metadata": {},
     "output_type": "execute_result"
    }
   ],
   "source": [
    "# Groupby title, calculate mean compensation, and sort by increasing total yearly compensation\n",
    "data_comp.groupby('title')[['totalyearlycompensation','basesalary','stockgrantvalue','bonus']].mean().sort_values('totalyearlycompensation')"
   ]
  },
  {
   "cell_type": "code",
   "execution_count": 48,
   "id": "f56b6dbf",
   "metadata": {},
   "outputs": [
    {
     "data": {
      "image/png": "[encoded data removed]",
      "text/plain": [
       "<Figure size 864x576 with 1 Axes>"
      ]
     },
     "metadata": {},
     "output_type": "display_data"
    }
   ],
   "source": [
    "# Plot average salary decomposition by title\n",
    "title_df = data_comp.groupby('title')[['totalyearlycompensation','basesalary','stockgrantvalue','bonus']].mean().sort_values('totalyearlycompensation')\n",
    "plt.figure(figsize=(12,8))\n",
    "col_list = ['basesalary','stockgrantvalue','bonus'] # Columns\n",
    "color_list = ['cornflowerblue', 'khaki','darkseagreen'] # Colors\n",
    "bottom = np.zeros(title_df.shape[0]) # Initialize bottom\n",
    "# Loop through 3 columns\n",
    "for n in range(3):\n",
    "    # Barplot\n",
    "    plt.bar(title_df.index, title_df[col_list[n]],label=col_list[n], color = color_list[n], bottom = bottom, width = 0.8)\n",
    "    bottom += np.array(title_df[col_list[n]]) # Create stacked bar plot\n",
    "plt.legend(col_list) # Legend\n",
    "plt.xlabel('Title') # xLabel\n",
    "plt.xticks(rotation = 90) # xLabels rotation to vertical\n",
    "plt.ylabel('Average Salary Decomposition (dollars)') # yLabel\n",
    "plt.title('Salary Decomposition by Title \\n', fontsize = 16) # Title\n",
    "plt.savefig('./visualizations/Salary_Decomposition_by_Title') # Save figure\n",
    "plt.show()"
   ]
  },
  {
   "cell_type": "markdown",
   "id": "5d98acb2",
   "metadata": {},
   "source": [
    "### Salary breakdown by education"
   ]
  },
  {
   "cell_type": "code",
   "execution_count": 49,
   "id": "7d9e02bc",
   "metadata": {},
   "outputs": [
    {
     "data": {
      "image/png": "[encoded data removed]",
      "text/plain": [
       "<Figure size 864x576 with 1 Axes>"
      ]
     },
     "metadata": {},
     "output_type": "display_data"
    }
   ],
   "source": [
    "# Plot average salary decomposition by education\n",
    "title_df = data_comp.groupby('Education')[['totalyearlycompensation','basesalary','stockgrantvalue','bonus']].mean().sort_values('totalyearlycompensation')\n",
    "plt.figure(figsize=(12,8))\n",
    "col_list = ['basesalary','stockgrantvalue','bonus'] # Columns\n",
    "color_list = ['cornflowerblue', 'khaki','darkseagreen'] # Colors\n",
    "bottom = np.zeros(title_df.shape[0]) # Initialize bottom\n",
    "# Loop through 3 columns\n",
    "for n in range(3):\n",
    "    # Barplot\n",
    "    plt.bar(title_df.index, title_df[col_list[n]],label=col_list[n], color = color_list[n], bottom = bottom, width = 0.8)\n",
    "    bottom += np.array(title_df[col_list[n]]) # Create stacked bar plot\n",
    "plt.legend(col_list) # Legend\n",
    "plt.xlabel('Education') # xLabel\n",
    "plt.xticks(rotation = 90) # xLabels rotation to vertical\n",
    "plt.ylabel('Average Salary Decomposition (dollars)') # yLabel\n",
    "plt.title('Salary Decomposition by Education \\n', fontsize = 16) # Title\n",
    "plt.savefig('./visualizations/Salary_Decomposition_by_Education') # Save figure\n",
    "plt.show()"
   ]
  },
  {
   "cell_type": "markdown",
   "id": "0bc811d2",
   "metadata": {},
   "source": [
    "## 3. Multiple Linear Regression"
   ]
  },
  {
   "cell_type": "code",
   "execution_count": 50,
   "id": "ece0892e",
   "metadata": {},
   "outputs": [],
   "source": [
    "#Drop any row with NA's\n",
    "tempData = data_comp.dropna()\n",
    "\n",
    "# Initialize dummy variables\n",
    "dummyCompanies = pd.get_dummies(tempData['company']) \n",
    "temp = tempData['company'].value_counts()[:3].index # Top 3 companies only\n",
    "dummyCompanies = dummyCompanies[temp].astype('int64')\n",
    "\n",
    "dummyTitles = pd.get_dummies(tempData['title'])   \n",
    "temp = tempData['title'].value_counts()[:3].index # Top 3 titles only\n",
    "dummyTitles = dummyTitles[temp].astype('int64')\n",
    "\n",
    "dummyGender = pd.get_dummies(tempData['gender']) \n",
    "temp = tempData['gender'].value_counts()[:2].index # Male and female only\n",
    "dummyGender = dummyGender[temp].astype('int64')\n",
    "\n",
    "dummyLocation = pd.get_dummies(tempData['location'])   \n",
    "temp = tempData['location'].value_counts()[:3].index # Top 3 locations only                                                                                                                                   \n",
    "dummyLocation = dummyLocation[temp].astype('int64')\n",
    "\n",
    "dummyRace = pd.get_dummies(tempData['Race'])  # All races\n",
    "\n",
    "dummyEducation = pd.get_dummies(tempData['Education'])  # All educations"
   ]
  },
  {
   "cell_type": "code",
   "execution_count": 51,
   "id": "121c7bd8",
   "metadata": {},
   "outputs": [],
   "source": [
    "# Standardizing the outcome variable\n",
    "y = stats.zscore(tempData['totalyearlycompensation'])\n",
    "\n",
    "# Predictors\n",
    "x = tempData[['yearsofexperience','yearsatcompany']]\n",
    "temp = [x, dummyCompanies, dummyTitles, dummyGender, dummyLocation, dummyRace, dummyEducation]\n",
    "\n",
    "# Combining columns into single dataframe\n",
    "x = pd.concat(temp,axis=1)"
   ]
  },
  {
   "cell_type": "code",
   "execution_count": 52,
   "id": "a4c11fe6",
   "metadata": {},
   "outputs": [
    {
     "data": {
      "text/html": [
       "<div>\n",
       "<style scoped>\n",
       "    .dataframe tbody tr th:only-of-type {\n",
       "        vertical-align: middle;\n",
       "    }\n",
       "\n",
       "    .dataframe tbody tr th {\n",
       "        vertical-align: top;\n",
       "    }\n",
       "\n",
       "    .dataframe thead th {\n",
       "        text-align: right;\n",
       "    }\n",
       "</style>\n",
       "<table border=\"1\" class=\"dataframe\">\n",
       "  <thead>\n",
       "    <tr style=\"text-align: right;\">\n",
       "      <th></th>\n",
       "      <th>yearsofexperience</th>\n",
       "      <th>yearsatcompany</th>\n",
       "      <th>Amazon</th>\n",
       "      <th>Microsoft</th>\n",
       "      <th>Google</th>\n",
       "      <th>Software Engineer</th>\n",
       "      <th>Product Manager</th>\n",
       "      <th>Software Engineering Manager</th>\n",
       "      <th>Male</th>\n",
       "      <th>Female</th>\n",
       "      <th>...</th>\n",
       "      <th>Native Hawaiian or Other Pacific Islander</th>\n",
       "      <th>Two or More Races</th>\n",
       "      <th>White</th>\n",
       "      <th>Associate</th>\n",
       "      <th>Bachelor</th>\n",
       "      <th>Doctorate</th>\n",
       "      <th>High school or equivalent</th>\n",
       "      <th>Master</th>\n",
       "      <th>Some college coursework completed</th>\n",
       "      <th>Technical or occupational certificate</th>\n",
       "    </tr>\n",
       "  </thead>\n",
       "  <tbody>\n",
       "    <tr>\n",
       "      <th>24320</th>\n",
       "      <td>3.0</td>\n",
       "      <td>2.0</td>\n",
       "      <td>0</td>\n",
       "      <td>1</td>\n",
       "      <td>0</td>\n",
       "      <td>1</td>\n",
       "      <td>0</td>\n",
       "      <td>0</td>\n",
       "      <td>1</td>\n",
       "      <td>0</td>\n",
       "      <td>...</td>\n",
       "      <td>0</td>\n",
       "      <td>1</td>\n",
       "      <td>0</td>\n",
       "      <td>0</td>\n",
       "      <td>1</td>\n",
       "      <td>0</td>\n",
       "      <td>0</td>\n",
       "      <td>0</td>\n",
       "      <td>0</td>\n",
       "      <td>0</td>\n",
       "    </tr>\n",
       "    <tr>\n",
       "      <th>24322</th>\n",
       "      <td>4.0</td>\n",
       "      <td>4.0</td>\n",
       "      <td>0</td>\n",
       "      <td>1</td>\n",
       "      <td>0</td>\n",
       "      <td>1</td>\n",
       "      <td>0</td>\n",
       "      <td>0</td>\n",
       "      <td>1</td>\n",
       "      <td>0</td>\n",
       "      <td>...</td>\n",
       "      <td>0</td>\n",
       "      <td>0</td>\n",
       "      <td>0</td>\n",
       "      <td>0</td>\n",
       "      <td>0</td>\n",
       "      <td>0</td>\n",
       "      <td>0</td>\n",
       "      <td>1</td>\n",
       "      <td>0</td>\n",
       "      <td>0</td>\n",
       "    </tr>\n",
       "    <tr>\n",
       "      <th>24323</th>\n",
       "      <td>5.0</td>\n",
       "      <td>0.0</td>\n",
       "      <td>0</td>\n",
       "      <td>0</td>\n",
       "      <td>0</td>\n",
       "      <td>1</td>\n",
       "      <td>0</td>\n",
       "      <td>0</td>\n",
       "      <td>1</td>\n",
       "      <td>0</td>\n",
       "      <td>...</td>\n",
       "      <td>0</td>\n",
       "      <td>0</td>\n",
       "      <td>1</td>\n",
       "      <td>0</td>\n",
       "      <td>1</td>\n",
       "      <td>0</td>\n",
       "      <td>0</td>\n",
       "      <td>0</td>\n",
       "      <td>0</td>\n",
       "      <td>0</td>\n",
       "    </tr>\n",
       "    <tr>\n",
       "      <th>24325</th>\n",
       "      <td>15.0</td>\n",
       "      <td>3.0</td>\n",
       "      <td>1</td>\n",
       "      <td>0</td>\n",
       "      <td>0</td>\n",
       "      <td>1</td>\n",
       "      <td>0</td>\n",
       "      <td>0</td>\n",
       "      <td>1</td>\n",
       "      <td>0</td>\n",
       "      <td>...</td>\n",
       "      <td>0</td>\n",
       "      <td>0</td>\n",
       "      <td>0</td>\n",
       "      <td>0</td>\n",
       "      <td>1</td>\n",
       "      <td>0</td>\n",
       "      <td>0</td>\n",
       "      <td>0</td>\n",
       "      <td>0</td>\n",
       "      <td>0</td>\n",
       "    </tr>\n",
       "    <tr>\n",
       "      <th>24326</th>\n",
       "      <td>3.0</td>\n",
       "      <td>3.0</td>\n",
       "      <td>0</td>\n",
       "      <td>0</td>\n",
       "      <td>0</td>\n",
       "      <td>1</td>\n",
       "      <td>0</td>\n",
       "      <td>0</td>\n",
       "      <td>1</td>\n",
       "      <td>0</td>\n",
       "      <td>...</td>\n",
       "      <td>0</td>\n",
       "      <td>0</td>\n",
       "      <td>0</td>\n",
       "      <td>0</td>\n",
       "      <td>1</td>\n",
       "      <td>0</td>\n",
       "      <td>0</td>\n",
       "      <td>0</td>\n",
       "      <td>0</td>\n",
       "      <td>0</td>\n",
       "    </tr>\n",
       "  </tbody>\n",
       "</table>\n",
       "<p>5 rows × 27 columns</p>\n",
       "</div>"
      ],
      "text/plain": [
       "       yearsofexperience  yearsatcompany  Amazon  Microsoft  Google  \\\n",
       "24320                3.0             2.0       0          1       0   \n",
       "24322                4.0             4.0       0          1       0   \n",
       "24323                5.0             0.0       0          0       0   \n",
       "24325               15.0             3.0       1          0       0   \n",
       "24326                3.0             3.0       0          0       0   \n",
       "\n",
       "       Software Engineer  Product Manager  Software Engineering Manager  Male  \\\n",
       "24320                  1                0                             0     1   \n",
       "24322                  1                0                             0     1   \n",
       "24323                  1                0                             0     1   \n",
       "24325                  1                0                             0     1   \n",
       "24326                  1                0                             0     1   \n",
       "\n",
       "       Female  ...  Native Hawaiian or Other Pacific Islander  \\\n",
       "24320       0  ...                                          0   \n",
       "24322       0  ...                                          0   \n",
       "24323       0  ...                                          0   \n",
       "24325       0  ...                                          0   \n",
       "24326       0  ...                                          0   \n",
       "\n",
       "       Two or More Races  White  Associate  Bachelor  Doctorate  \\\n",
       "24320                  1      0          0         1          0   \n",
       "24322                  0      0          0         0          0   \n",
       "24323                  0      1          0         1          0   \n",
       "24325                  0      0          0         1          0   \n",
       "24326                  0      0          0         1          0   \n",
       "\n",
       "       High school or equivalent  Master  Some college coursework completed  \\\n",
       "24320                          0       0                                  0   \n",
       "24322                          0       1                                  0   \n",
       "24323                          0       0                                  0   \n",
       "24325                          0       0                                  0   \n",
       "24326                          0       0                                  0   \n",
       "\n",
       "       Technical or occupational certificate  \n",
       "24320                                      0  \n",
       "24322                                      0  \n",
       "24323                                      0  \n",
       "24325                                      0  \n",
       "24326                                      0  \n",
       "\n",
       "[5 rows x 27 columns]"
      ]
     },
     "execution_count": 52,
     "metadata": {},
     "output_type": "execute_result"
    }
   ],
   "source": [
    "# Inspect formatted data\n",
    "x.head()"
   ]
  },
  {
   "cell_type": "code",
   "execution_count": 53,
   "id": "999a92f4",
   "metadata": {},
   "outputs": [
    {
     "name": "stdout",
     "output_type": "stream",
     "text": [
      "Train size: 14542\n",
      "Test size: 3636\n",
      "RMSE: 0.799\n",
      "R^2: 0.279\n"
     ]
    }
   ],
   "source": [
    "# Run the MLR\n",
    "\n",
    "# Split data for model\n",
    "xTrain, xTest, yTrain, yTest = train_test_split(x, y, test_size=0.2, random_state=0)\n",
    "print('Train size:',len(xTrain))\n",
    "print('Test size:',len(xTest))\n",
    "\n",
    "# Fit linear model to train set\n",
    "model = LinearRegression().fit(xTrain,yTrain)\n",
    "\n",
    "# Use model to make predictions with test set\n",
    "predictions = model.predict(xTest)\n",
    "\n",
    "# Compute the model error and score\n",
    "error = mean_squared_error(yTest, predictions, squared=False)\n",
    "print('RMSE:',error.round(3))\n",
    "rSqr = r2_score(yTest,predictions)\n",
    "print('R^2:',rSqr.round(3))"
   ]
  },
  {
   "cell_type": "code",
   "execution_count": 54,
   "id": "8abe74f4",
   "metadata": {},
   "outputs": [
    {
     "data": {
      "image/png": "[encoded data removed]",
      "text/plain": [
       "<Figure size 864x864 with 1 Axes>"
      ]
     },
     "metadata": {},
     "output_type": "display_data"
    }
   ],
   "source": [
    "# Plot the betas:\n",
    "betas = model.coef_ # Betas\n",
    "fig = plt.figure(figsize = (12,12))\n",
    "plt.barh(np.linspace(1,len(betas),len(betas)),betas,tick_label=x.columns) # Horizontal bar plot\n",
    "plt.vlines(0,0,len(betas),colors='black',linestyles='dotted',linewidth=1) # Black vertical dotted line at 0\n",
    "plt.title('R^2 = {:.3f}'.format(rSqr)) # Title\n",
    "plt.xlabel('Beta weights') # xLabel\n",
    "plt.savefig('./visualizations/Beta_distribution_of_top_features') # Save figure\n",
    "plt.show()"
   ]
  },
  {
   "cell_type": "code",
   "execution_count": null,
   "id": "6c4ff5b7",
   "metadata": {},
   "outputs": [],
   "source": []
  }
 ],
 "metadata": {
  "kernelspec": {
   "display_name": "Python 3 (ipykernel)",
   "language": "python",
   "name": "python3"
  },
  "language_info": {
   "codemirror_mode": {
    "name": "ipython",
    "version": 3
   },
   "file_extension": ".py",
   "mimetype": "text/x-python",
   "name": "python",
   "nbconvert_exporter": "python",
   "pygments_lexer": "ipython3",
   "version": "3.8.8"
  }
 },
 "nbformat": 4,
 "nbformat_minor": 5
}
